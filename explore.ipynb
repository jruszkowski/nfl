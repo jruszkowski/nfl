{
 "cells": [
  {
   "cell_type": "code",
   "execution_count": 74,
   "metadata": {},
   "outputs": [
    {
     "data": {
      "text/plain": [
       "{'Los Angeles Rams': 9.75,\n",
       " 'Cincinnati': 9.16,\n",
       " 'San Francisco': 8.84,\n",
       " 'Buffalo': 8.06,\n",
       " 'Cleveland': 7.61,\n",
       " 'Kansas City': 7.45,\n",
       " 'Tampa Bay': 7.35,\n",
       " 'Denver': 7.34,\n",
       " 'Atlanta': 7.22,\n",
       " 'Seattle': 6.93,\n",
       " 'Philadelphia': 6.84,\n",
       " 'Chicago': 6.66,\n",
       " 'Pittsburgh': 6.58,\n",
       " 'Indianapolis': 6.49,\n",
       " 'Minnesota': 6.41,\n",
       " 'Jacksonville': 6.29,\n",
       " 'Los Angeles Chargers': 6.16,\n",
       " 'Washington': 6.03,\n",
       " 'Detroit': 5.87,\n",
       " 'Arizona': 5.53,\n",
       " 'Tennessee': 5.44,\n",
       " 'Carolina': 5.31,\n",
       " 'New England': 5.17,\n",
       " 'Green Bay': 5.05,\n",
       " 'Dallas': 4.86,\n",
       " 'New Orleans': 4.63,\n",
       " 'New York Jets': 4.22,\n",
       " 'Miami': 4.02,\n",
       " 'New York Giants': 3.75,\n",
       " 'Houston': 3.03}"
      ]
     },
     "execution_count": 74,
     "metadata": {},
     "output_type": "execute_result"
    }
   ],
   "source": [
    "import projections\n",
    "from importlib import reload\n",
    "reload(projections)\n",
    "projections.get_nf_d_projections()"
   ]
  },
  {
   "cell_type": "code",
   "execution_count": 75,
   "metadata": {},
   "outputs": [],
   "source": [
    "#!usr/bin/python3\n",
    "\n",
    "import sys\n",
    "import projections\n",
    "import pandas as pd\n",
    "from itertools import combinations\n",
    "import numpy as np\n",
    "from joblib import Parallel, delayed\n",
    "import datetime\n",
    "from collections import defaultdict\n",
    "\n",
    "def remove_suffix(p, fanduel=False):\n",
    "\n",
    "    if fanduel:\n",
    "        if p != 'Michael Pittman Jr.':\n",
    "            p = p.replace(' Jr.', '')\n",
    "        if fanduel_d.get(p.strip()):\n",
    "            p = fanduel_d.get(p.strip())\n",
    "    if (not fanduel) and defense.get(p.strip()):\n",
    "        p = defense.get(p.strip())\n",
    "    p = p.replace(' III', '')\n",
    "    p = p.replace(' II', '')\n",
    "    p = p.replace(' IV', '')\n",
    "    if p != 'Las Vegas':\n",
    "        p = p.replace(' V', '')\n",
    "    p = p.replace('AJ ', 'A.J. ')\n",
    "    p = p.replace('DJ Chark Jr.', 'D.J. Chark')\n",
    "    p = p.replace('Marvin Jones Jr.', 'Marvin Jones')\n",
    "    p = p.replace('Robert Griffin', 'Robert Griffin III')\n",
    "    p = p.replace('Darrell Henderson Jr.', 'Darrell Henderson')\n",
    "    p = p.replace('Odell Beckham Jr.', 'Odell Beckham')\n",
    "    p = p.replace('DJ ', 'D.J. ')\n",
    "    p = p.replace('DK ', 'D.K. ')\n",
    "    p = p.replace('Eli Mitchell', 'Elijah Mitchell')\n",
    "\n",
    "    return p\n",
    "\n",
    "defense = {\n",
    "     'Steelers': 'Pittsburgh',\n",
    "     'Chargers': 'Los Angeles Chargers',\n",
    "     'Browns': 'Cleveland',\n",
    "     'Vikings': 'Minnesota',\n",
    "     'WAS Football Team': 'Washington',\n",
    "     'Dolphins': 'Miami',\n",
    "     'Lions': 'Detroit',\n",
    "     'Patriots': 'New England',\n",
    "     'Ravens': 'Baltimore',\n",
    "     'Buccaneers': 'Tampa Bay',\n",
    "     'Saints': 'New Orleans',\n",
    "     'Chiefs': 'Kansas City',\n",
    "     'Bengals': 'Cincinnati',\n",
    "     'Texans': 'Houston',\n",
    "     'Broncos': 'Denver',\n",
    "     'Eagles': 'Philadelphia',\n",
    "     'Panthers': 'Carolina',\n",
    "     'Cardinals': 'Arizona',\n",
    "     'Packers': 'Green Bay',\n",
    "     'Titans': 'Tennessee',\n",
    "     'Cowboys': 'Dallas',\n",
    "     'Rams': 'Los Angeles Rams',\n",
    "     'Seahawks': 'Seattle',\n",
    "     'Jaguars': 'Jacksonville',\n",
    "     'Falcons': 'Atlanta',\n",
    "     'Jets': 'New York Jets',\n",
    "     'Colts': 'Indianapolis',\n",
    "     'Raiders': 'Las Vegas',\n",
    "     'Bills': 'Buffalo',\n",
    "    'Bears': 'Chicago',\n",
    "    '49ers': 'San Francisco',\n",
    "    'Giants': 'New York Giants',\n",
    "    \n",
    " }\n",
    "\n",
    "fanduel_d = {\n",
    "    'Pittsburgh Steelers': 'Pittsburgh',\n",
    "    'Miami Dolphins': 'Miami',\n",
    "    'Baltimore Ravens': 'Baltimore',\n",
    "    'Cleveland Browns': 'Cleveland',\n",
    "    'Los Angeles Chargers': 'Los Angeles Chargers',\n",
    "    'Minnesota Vikings': 'Minnesota',\n",
    "    'New England Patriots': 'New England',\n",
    "    'Green Bay Packers': 'Green Bay',\n",
    "    'New Orleans Saints': 'New Orleans',\n",
    "    'Washington Football Team': 'Washington',\n",
    "    'Indianapolis Colts': 'Indianapolis',\n",
    "    'Philadelphia Eagles': 'Philadelphia',\n",
    "    'Denver Broncos': 'Denver',\n",
    "    'Tennessee Titans': 'Tennessee',\n",
    "    'Cincinnati Bengals': 'Cincinnati',\n",
    "    'Houston Texans': 'Houston',\n",
    "    'Detroit Lions': 'Detroit',\n",
    "    'Carolina Panthers': 'Carolina',\n",
    "    'Jacksonville Jaguars': 'Jacksonville',\n",
    "    'Atlanta Falcons': 'Atlanta',\n",
    "    'New York Jets': 'New York Jets',\n",
    "    'Dallas Cowboys': 'Dallas',\n",
    "    'Los Angeles Rams': 'Los Angeles Rams',\n",
    "    'San Francisco 49ers': 'San Francisco',\n",
    "    'Seattle Seahawks': 'Seattle',\n",
    "    'Chicago Bears': 'Chicago',\n",
    "    'Tampa Bay Buccaneers': 'Tampa Bay',\n",
    "    'Buffalo Bills': 'Buffalo',\n",
    "    'Kansas City Chiefs': 'Kansas City',\n",
    "    'Arizona Cardinals': 'Arizona',\n",
    "}\n",
    "\n",
    "plyr_dict = projections.get_nf_projections()\n",
    "plyr_dict.update(projections.get_nf_d_projections())"
   ]
  },
  {
   "cell_type": "code",
   "execution_count": 76,
   "metadata": {},
   "outputs": [],
   "source": [
    "# f = 'fanduel_thurs.csv'\n",
    "f = 'fanduel.csv'\n",
    "df = pd.read_csv('inputs/' + f)\n",
    "df = df.drop(df.loc[(df['Nickname'] == 'Ryan Griffin') & (df.Team == 'TB')].index)\n",
    "assert len(df) == len(df['Nickname'].unique())\n",
    "players = df['Nickname'].to_list()\n",
    "players = {p: remove_suffix(p, True) for p in players}\n",
    "df['Nickname'] = df['Nickname'].replace(players)\n",
    "df = df.set_index('Nickname')\n",
    "df['Projection'] = pd.DataFrame.from_dict(plyr_dict, orient='index')"
   ]
  },
  {
   "cell_type": "code",
   "execution_count": 77,
   "metadata": {},
   "outputs": [],
   "source": [
    "# df.groupby('Nickname').count().sort_values(by=['Position'], ascending=False)"
   ]
  },
  {
   "cell_type": "code",
   "execution_count": 78,
   "metadata": {},
   "outputs": [],
   "source": [
    "# df.loc[df['Position']=='D']"
   ]
  },
  {
   "cell_type": "code",
   "execution_count": 79,
   "metadata": {},
   "outputs": [],
   "source": [
    "# f = 'draftkings_thurs.csv'\n",
    "f = 'draftkings.csv'\n",
    "df = pd.read_csv('inputs/' + f)\n",
    "players = df['Name'].to_list()\n",
    "players = {p: remove_suffix(p) for p in players}\n",
    "df['Name'] = df['Name'].replace(players)\n",
    "df = df.drop(df.loc[(df['Name'] == 'Josh Johnson') & (df.TeamAbbrev == 'NYJ')].index)\n",
    "df = df.drop(df.loc[(df['Name'] == 'Ryan Griffin') & (df.TeamAbbrev == 'TB')].index)\n",
    "df = df.set_index('Name')\n",
    "df['Projection'] = pd.DataFrame.from_dict(plyr_dict, orient='index')\n",
    "df = df.reset_index()\n",
    "# df.groupby('Name').count().sort_values(by=['Position'])\n",
    "df['Name'] = df['Name'].apply(lambda x: x.strip())\n",
    "assert len(df['Name']) == len(df['Name'].unique())\n",
    "df.set_index(['Name'], inplace=True)"
   ]
  },
  {
   "cell_type": "code",
   "execution_count": 80,
   "metadata": {},
   "outputs": [],
   "source": [
    "# df.loc[(df.Projection.isna()) & (df.FPPG > 0)].sort_values('Salary', ascending=False).head(20)\n",
    "# df.loc[(df.Projection.isna()) & (df.AvgPointsPerGame > 0)].sort_values('AvgPointsPerGame', ascending=False).head(20)"
   ]
  },
  {
   "cell_type": "code",
   "execution_count": 81,
   "metadata": {},
   "outputs": [],
   "source": [
    "# df.groupby('Name').count().sort_values(by=['Position'], ascending=False)"
   ]
  },
  {
   "cell_type": "code",
   "execution_count": 82,
   "metadata": {},
   "outputs": [],
   "source": [
    "df = df[df['Projection'] > 1]\n",
    "\n",
    "defense = {'d': 'DST', 'f': 'D'}\n",
    "plyr_names = {'d': 'Name', 'f': 'Nickname'}\n",
    "salary = {'d': 50000, 'f': 60000}\n",
    "\n",
    "df = df.reset_index()\n",
    "df_pos_salary = df.groupby(['Position', 'Salary'])['Projection'].agg([np.mean, np.max])\n",
    "df_pos_salary = df_pos_salary.reset_index()\n",
    "df = df.merge(df_pos_salary, on=['Position', 'Salary'])\n",
    "df = df[((df['Position'].isin(['QB', defense[f[0]]])) & (df['Projection'] == df['amax'])) | ((df['Position'].isin(['WR', 'TE', 'RB'])) & (df['Projection'] == df['mean']))]\n",
    "df.set_index(plyr_names[f[0]], inplace=True)\n",
    "df = df.reset_index()\n",
    "df_pos = df.groupby(['Position', 'Projection'])['Salary'].agg([np.min])['amin']\n",
    "df_pos = df_pos.reset_index()\n",
    "df = df.merge(df_pos, on=['Position', 'Projection'])\n",
    "df = df[((df['Position'].isin(['QB', defense[f[0]]])) & (df['Salary'] <= df['amin'])) | (df['Position'].isin(['WR', 'TE', 'RB']))]\n",
    "df.set_index(plyr_names[f[0]], inplace=True)"
   ]
  },
  {
   "cell_type": "code",
   "execution_count": 83,
   "metadata": {},
   "outputs": [],
   "source": [
    "grouped = df.groupby(['Position'])\n",
    "position_dict = defaultdict()\n",
    "for pos, frame in grouped:\n",
    "    position_dict[pos] = frame.to_dict(orient='index')\n",
    "\n",
    "player_dict = defaultdict()\n",
    "for item in position_dict.items():\n",
    "    for plyr_name in item[1].keys():\n",
    "        player_dict[plyr_name] = item[1][plyr_name]\n",
    "\n",
    "te_plyr_list = [k for k,v in player_dict.items() if v['Position'] == 'TE']\n",
    "rb_plyr_list = [k for k,v in player_dict.items() if v['Position'] == 'RB']\n",
    "wr_plyr_list = [k for k,v in player_dict.items() if v['Position'] == 'WR']\n",
    "singles_list = [[qb, d] for qb in position_dict['QB'].keys() for d in position_dict[defense[f[0]]].keys()]\n",
    "\n",
    "def return_combos(plyr_list, count):\n",
    "    return list(combinations(plyr_list, count))\n",
    "\n",
    "te = return_combos(te_plyr_list, 2)\n",
    "wr_3 = return_combos(wr_plyr_list, 3)\n",
    "wr_4 = return_combos(wr_plyr_list, 4)\n",
    "rb_2 = return_combos(rb_plyr_list, 2)\n",
    "rb_3 = return_combos(rb_plyr_list, 3)\n",
    "\n",
    "flex_combos = {\n",
    "    1: {'TE': te_plyr_list, 'RB': rb_3, 'WR': wr_3},\n",
    "    2: {'TE': te_plyr_list, 'RB': rb_2,  'WR': wr_4},\n",
    "    3: {'TE': te, 'RB': rb_2, 'WR': wr_3},\n",
    "    }\n",
    "\n",
    "def df_value(row, k, n):\n",
    "    if n == 1:\n",
    "        return player_dict[row[0]][k]\n",
    "    if n == 2:\n",
    "        return player_dict[row[0]][k]+ player_dict[row[1]][k]\n",
    "    if n == 3:\n",
    "        return player_dict[row[0]][k] + player_dict[row[1]][k] + player_dict[row[2]][k]\n",
    "    if n == 4:\n",
    "        return player_dict[row[0]][k] + player_dict[row[1]][k] + player_dict[row[2]][k] + player_dict[row[3]][k]\n",
    "\n",
    "def clean_frame(f):\n",
    "    df_salary = f.groupby(['Salary'])['Projection'].agg([np.max])['amax']\n",
    "    f = f.merge(df_salary.to_frame(), on=['Salary'])\n",
    "    f = f[f['Projection'] >= f['amax']]\n",
    "    del f['amax']\n",
    "\n",
    "    df_pos = f.groupby(['Projection'])['Salary'].agg([np.min])['amin']\n",
    "    f = f.merge(df_pos.to_frame(), on=['Projection'])\n",
    "    f = f[f['Salary'] <= f['amin']]\n",
    "    del f['amin']\n",
    "    return f\n",
    "\n",
    "def get_projections(ck):\n",
    "\n",
    "    df_qb = pd.DataFrame(singles_list)\n",
    "    col_n = len(df_qb.columns)\n",
    "    df_qb['Salary'] = df_qb.apply(df_value, args=(['Salary', col_n]), axis=1)\n",
    "    df_qb['Projection'] = df_qb.apply(df_value, args=(['Projection', col_n]), axis=1)\n",
    "    df_qb = clean_frame(df_qb)\n",
    "\n",
    "    df_te = pd.DataFrame(flex_combos[ck]['TE'])\n",
    "    col_n = len(df_te.columns)\n",
    "    df_te['Salary'] = df_te.apply(df_value, args=(['Salary', col_n]), axis=1)\n",
    "    df_te['Projection'] = df_te.apply(df_value, args=(['Projection', col_n]), axis=1)\n",
    "    df_te = clean_frame(df_te)\n",
    "\n",
    "    df_rb = pd.DataFrame(flex_combos[ck]['RB'])\n",
    "    col_n = len(df_rb.columns)\n",
    "    df_rb['Salary'] = df_rb.apply(df_value, args=(['Salary', col_n]), axis=1)\n",
    "    df_rb['Projection'] = df_rb.apply(df_value, args=(['Projection', col_n]), axis=1)\n",
    "    df_rb = clean_frame(df_rb)\n",
    "\n",
    "    df_wr = pd.DataFrame(flex_combos[ck]['WR'])\n",
    "    col_n = len(df_wr.columns)\n",
    "    df_wr['Salary'] = df_wr.apply(df_value, args=(['Salary', col_n]), axis=1)\n",
    "    df_wr['Projection'] = df_wr.apply(df_value, args=(['Projection', col_n]), axis=1)\n",
    "    df_wr = clean_frame(df_wr)\n",
    "\n",
    "    df_qb['key'] = 1\n",
    "    df_te['key'] = 1\n",
    "    df_rb['key'] = 1\n",
    "    df_wr['key'] = 1\n",
    "\n",
    "    df = df_te.merge(df_rb, on=['key'], suffixes=('_te', '_rb'))\n",
    "    df['Salary'] = df['Salary_te'] + df['Salary_rb']\n",
    "    df['Projection'] = df['Projection_te'] + df['Projection_rb']\n",
    "    df = df[df['Salary'] <= salary[f[0]] - (min(df_wr['Salary']) + min(df_qb['Salary']))]\n",
    "    df = clean_frame(df)\n",
    "\n",
    "    df = df.merge(df_wr, on=['key'], suffixes=('_2', '_wr'))\n",
    "    df['Salary'] = df['Salary_2'] + df['Salary_wr']\n",
    "    df['Projection'] = df['Projection_2'] + df['Projection_wr']\n",
    "    df = df[df['Salary'] <= salary[f[0]] - min(df_qb['Salary'])]\n",
    "    df = clean_frame(df)\n",
    "\n",
    "    df = df.merge(df_qb, on=['key'], suffixes=('_3', '_qb'))\n",
    "    df['Salary'] = df['Salary_3'] + df['Salary_qb']\n",
    "    df['Projection'] = df['Projection_3'] + df['Projection_qb']\n",
    "    df = df[df['Salary'] <= salary[f[0]]]\n",
    "    df = clean_frame(df)\n",
    "\n",
    "    df = df.sort_values('Projection', ascending=False)\n",
    "    df.columns = [str(x) for x in df.columns]\n",
    "    df = df[df.columns[~df.columns.str.contains('Projection_|Salary_|key')]].dropna(axis=1)\n",
    "    df.columns = list(range(1,10)) + ['Salary', 'Projection']\n",
    "    return df"
   ]
  },
  {
   "cell_type": "code",
   "execution_count": 84,
   "metadata": {},
   "outputs": [],
   "source": [
    "# results = Parallel(n_jobs=-1)(delayed(get_projections)(k) for k in flex_combos.keys())\n",
    "# df[list(range(1,10)) + ['Salary', 'Projection']].sort_values('Projection', ascending=False)"
   ]
  },
  {
   "cell_type": "code",
   "execution_count": 85,
   "metadata": {},
   "outputs": [
    {
     "name": "stdout",
     "output_type": "stream",
     "text": [
      "0:00:01.511772\n",
      "                  1              2                  3                  4  \\\n",
      "0    Dallas Goedert     Nick Chubb  Darrell Henderson      Chuba Hubbard   \n",
      "1        Jared Cook  D'Andre Swift         Nick Chubb  Darrell Henderson   \n",
      "139      Jared Cook  D'Andre Swift  Darrell Henderson         A.J. Brown   \n",
      "2        Jared Cook  D'Andre Swift  Darrell Henderson      Chuba Hubbard   \n",
      "140  Dallas Goedert  D'Andre Swift  Darrell Henderson      Brandin Cooks   \n",
      "3        Jared Cook  D'Andre Swift  Darrell Henderson      Chuba Hubbard   \n",
      "4        Jared Cook  D'Andre Swift  Darrell Henderson      Chuba Hubbard   \n",
      "5        Jared Cook  D'Andre Swift  Darrell Henderson      Chuba Hubbard   \n",
      "141      Jared Cook     Nick Chubb  Darrell Henderson         A.J. Brown   \n",
      "295  Dallas Goedert     Jared Cook      D'Andre Swift  Darrell Henderson   \n",
      "\n",
      "                 5              6              7            8             9  \\\n",
      "0    DeVonta Smith    Tee Higgins  Jakobi Meyers   Josh Allen    Washington   \n",
      "1    DeVonta Smith    Tee Higgins  Jakobi Meyers   Josh Allen    Washington   \n",
      "139  DeVonta Smith    Tee Higgins  Jakobi Meyers   Josh Allen    Washington   \n",
      "2       A.J. Brown  DeVonta Smith    Tee Higgins  Jalen Hurts    Washington   \n",
      "140  DeVonta Smith    Tee Higgins  Jakobi Meyers   Josh Allen    Washington   \n",
      "3    Brandin Cooks  DeVonta Smith    Tee Higgins   Josh Allen    Washington   \n",
      "4    DeVonta Smith    Tee Higgins  Jakobi Meyers   Josh Allen       Seattle   \n",
      "5    DeVonta Smith    Tee Higgins  Jakobi Meyers   Josh Allen  Indianapolis   \n",
      "141  DeVonta Smith    Tee Higgins  Jakobi Meyers   Josh Allen    Washington   \n",
      "295     A.J. Brown  DeVonta Smith    Tee Higgins   Josh Allen  Indianapolis   \n",
      "\n",
      "     Salary  Projection  \n",
      "0     50000      138.74  \n",
      "1     49800      138.70  \n",
      "139   49900      138.68  \n",
      "2     49900      138.49  \n",
      "140   50000      138.06  \n",
      "3     49600      137.75  \n",
      "4     49700      137.74  \n",
      "5     49500      137.30  \n",
      "141   49600      137.25  \n",
      "295   50000      137.19  \n"
     ]
    }
   ],
   "source": [
    "# if __name__==\"__main__\":\n",
    "start_time = datetime.datetime.now()\n",
    "results = Parallel(n_jobs=-1)(delayed(get_projections)(k) for k in flex_combos.keys())\n",
    "df = pd.concat(results, sort=True)\n",
    "df.reset_index(inplace=True)\n",
    "df = df[list(range(1,10)) + ['Salary', 'Projection']].sort_values('Projection', ascending=False)\n",
    "# df.to_csv('results/output_' + sys.argv[1])\n",
    "df.to_csv('results/output_' + f)\n",
    "\n",
    "print (datetime.datetime.now() - start_time)\n",
    "print (df.iloc[0:10])"
   ]
  },
  {
   "cell_type": "code",
   "execution_count": 86,
   "metadata": {},
   "outputs": [
    {
     "data": {
      "text/plain": [
       "1                Dallas Goedert\n",
       "2                    Nick Chubb\n",
       "3             Darrell Henderson\n",
       "4                 Chuba Hubbard\n",
       "5                 DeVonta Smith\n",
       "6                   Tee Higgins\n",
       "7                 Jakobi Meyers\n",
       "8                    Josh Allen\n",
       "9                    Washington\n",
       "Salary                    50000\n",
       "Projection               138.74\n",
       "Name: 0, dtype: object"
      ]
     },
     "execution_count": 86,
     "metadata": {},
     "output_type": "execute_result"
    }
   ],
   "source": [
    "# df.loc[df[8]=='Tua Tagovailoa']\n",
    "df.iloc[0]"
   ]
  },
  {
   "cell_type": "code",
   "execution_count": 48,
   "metadata": {},
   "outputs": [
    {
     "data": {
      "text/plain": [
       "6.66"
      ]
     },
     "execution_count": 48,
     "metadata": {},
     "output_type": "execute_result"
    }
   ],
   "source": [
    "plyr_dict['Chicago']"
   ]
  },
  {
   "cell_type": "code",
   "execution_count": 49,
   "metadata": {},
   "outputs": [
    {
     "data": {
      "text/plain": [
       "5.87"
      ]
     },
     "execution_count": 49,
     "metadata": {},
     "output_type": "execute_result"
    }
   ],
   "source": [
    "plyr_dict['Detroit']"
   ]
  },
  {
   "cell_type": "code",
   "execution_count": null,
   "metadata": {},
   "outputs": [],
   "source": []
  }
 ],
 "metadata": {
  "environment": {
   "name": "common-cpu.m79",
   "type": "gcloud",
   "uri": "gcr.io/deeplearning-platform-release/base-cpu:m79"
  },
  "kernelspec": {
   "display_name": "Python 3",
   "language": "python",
   "name": "python3"
  },
  "language_info": {
   "codemirror_mode": {
    "name": "ipython",
    "version": 3
   },
   "file_extension": ".py",
   "mimetype": "text/x-python",
   "name": "python",
   "nbconvert_exporter": "python",
   "pygments_lexer": "ipython3",
   "version": "3.7.10"
  }
 },
 "nbformat": 4,
 "nbformat_minor": 4
}
